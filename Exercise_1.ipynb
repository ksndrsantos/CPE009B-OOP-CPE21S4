{
  "nbformat": 4,
  "nbformat_minor": 0,
  "metadata": {
    "colab": {
      "provenance": [],
      "authorship_tag": "ABX9TyPxo9za9xukVj0DucqB1Hw2",
      "include_colab_link": true
    },
    "kernelspec": {
      "name": "python3",
      "display_name": "Python 3"
    },
    "language_info": {
      "name": "python"
    }
  },
  "cells": [
    {
      "cell_type": "markdown",
      "metadata": {
        "id": "view-in-github",
        "colab_type": "text"
      },
      "source": [
        "<a href=\"https://colab.research.google.com/github/ksndrsantos/CPE009B-OOP-CPE21S4/blob/main/Exercise_1.ipynb\" target=\"_parent\"><img src=\"https://colab.research.google.com/assets/colab-badge.svg\" alt=\"Open In Colab\"/></a>"
      ]
    },
    {
      "cell_type": "code",
      "execution_count": 35,
      "metadata": {
        "colab": {
          "base_uri": "https://localhost:8080/"
        },
        "id": "AL2qDHn9FcCg",
        "outputId": "f1d8f64f-054b-4826-9a48-bd2b2fbdb6ce"
      },
      "outputs": [
        {
          "output_type": "stream",
          "name": "stdout",
          "text": [
            "My name is: Ana and with an age of 19 and birthdate of January 3, 2005\n",
            "Mark\n",
            "20\n",
            "April 7, 2004\n",
            "My name is: Mark and with an age of 20 and birthdate of April 7, 2004\n",
            "John\n",
            "46\n",
            "August 9, 1979\n",
            "My name is: John and with an age of 46 and birthdate of August 9, 1979\n"
          ]
        }
      ],
      "source": [
        "#Class Constructor\n",
        "#self is a parameter\n",
        "\n",
        "class Person: #this is a parent/super class\n",
        "  def __init__(self, name, age, birthdate):\n",
        "    self.name = name\n",
        "    self.age = age\n",
        "    self.birthdate = birthdate #defining attributes and identity\n",
        "\n",
        "\n",
        "  def person_attribute(self): #method or function instructor\n",
        "    return f\"My name is: {self.name} and with an age of {self.age} and birthdate of {self.birthdate}\"\n",
        "\n",
        "class Teacher (Person): #this is a child/sub class\n",
        "  pass\n",
        "class Student (Person):\n",
        "  pass #subclass contructon\n",
        "#object instantiation\n",
        "\n",
        "person = Person (\"Ana\", 19, \"January 3, 2005\") #behavior/instance of a class\n",
        "student = Student (\"Mark\", 20, \"April 7, 2004\")\n",
        "print (person.person_attribute())\n",
        "print (student.name)\n",
        "print (student.age)\n",
        "print (student.birthdate)\n",
        "print (student.person_attribute())\n",
        "#object name = class name ; behavior of the class; you cant mix it up\n",
        "\n",
        "teacher = Teacher (\"John\", 46, \"August 9, 1979\")\n",
        "print (teacher.name)\n",
        "print (teacher.age)\n",
        "print (teacher.birthdate)\n",
        "print (teacher.person_attribute())"
      ]
    },
    {
      "cell_type": "markdown",
      "source": [
        "# **CHALLENGE 1**\n",
        "\n",
        "Create a python program that has the following:\n",
        "1. Super class named as Shapes\n",
        "2. Subclasses : Rectangle, Squares\n",
        "3. Method : Perimeter (), Area ()\n",
        "4. Object Name: rectangle, squarte\n",
        "5. Inherits the attributes of super class Shapes\n",
        "\n",
        "  self.side"
      ],
      "metadata": {
        "id": "NEx55Iz-TGzr"
      }
    },
    {
      "cell_type": "code",
      "source": [
        "class Shapes:\n",
        "  def __init__(self, length,width, side):\n",
        "    self.length = length\n",
        "    self.width = width\n",
        "    self.side = side\n",
        "\n",
        "  def Shape_attribute(self):\n",
        "    return f\"My length is: {self.length} and my width is: {self.width} and my side for my square is: {self.side}\"\n",
        "\n",
        "  def Area(self):\n",
        "    if self.length > 0 and self.width > 0:\n",
        "      return self.length * self.width\n",
        "    elif self.side > 0:\n",
        "      return self.side * self.side\n",
        "  def Perimeter(self):\n",
        "    if self.length > 0 and self.width > 0:\n",
        "      return 2 * (self.length + self.width)\n",
        "    elif self.side > 0:\n",
        "      return self.side * 4\n",
        "\n",
        "class Rectangle(Shapes):\n",
        "  pass\n",
        "\n",
        "class Square (Shapes):\n",
        "  pass\n",
        "\n",
        "rectangle = Rectangle (2,3, 0)\n",
        "square = Square (0,0,2)\n",
        "\n",
        "print(\"Rectangle Attributes:\", rectangle.Shape_attribute())\n",
        "print(\"Rectangle Area:\", rectangle.Area())\n",
        "print(\"Rectangle Perimeter:\", rectangle.Perimeter())\n",
        "print(\"Square Attributes:\", square.Shape_attribute())\n",
        "print(\"Square Area:\", square.Area())\n",
        "print(\"Square Perimeter:\", square.Perimeter())"
      ],
      "metadata": {
        "colab": {
          "base_uri": "https://localhost:8080/"
        },
        "id": "1ZnvckzkLJxC",
        "outputId": "fa86fca7-9da4-4239-840c-ee852137b402"
      },
      "execution_count": 45,
      "outputs": [
        {
          "output_type": "stream",
          "name": "stdout",
          "text": [
            "Rectangle Attributes: My length is: 2 and my width is: 3 and my side for my square is: 0\n",
            "Rectangle Area: 6\n",
            "Rectangle Perimeter: 10\n",
            "Square Attributes: My length is: 0 and my width is: 0 and my side for my square is: 2\n",
            "Square Area: 4\n",
            "Square Perimeter: 8\n"
          ]
        }
      ]
    }
  ]
}