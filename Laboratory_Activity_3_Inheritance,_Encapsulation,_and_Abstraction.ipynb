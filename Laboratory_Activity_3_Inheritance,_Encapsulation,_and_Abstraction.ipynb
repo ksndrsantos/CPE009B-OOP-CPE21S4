{
  "nbformat": 4,
  "nbformat_minor": 0,
  "metadata": {
    "colab": {
      "provenance": [],
      "authorship_tag": "ABX9TyNArQdE4oHSqRvHrKilsOim",
      "include_colab_link": true
    },
    "kernelspec": {
      "name": "python3",
      "display_name": "Python 3"
    },
    "language_info": {
      "name": "python"
    }
  },
  "cells": [
    {
      "cell_type": "markdown",
      "metadata": {
        "id": "view-in-github",
        "colab_type": "text"
      },
      "source": [
        "<a href=\"https://colab.research.google.com/github/ksndrsantos/CPE009B-OOP-CPE21S4/blob/main/Laboratory_Activity_3_Inheritance%2C_Encapsulation%2C_and_Abstraction.ipynb\" target=\"_parent\"><img src=\"https://colab.research.google.com/assets/colab-badge.svg\" alt=\"Open In Colab\"/></a>"
      ]
    },
    {
      "cell_type": "code",
      "execution_count": 10,
      "metadata": {
        "id": "-tk1tHc-gjEw"
      },
      "outputs": [],
      "source": [
        "class employee:\n",
        "    def __init__(self,emp_id,emp_name,emp_address,allowance,rate):\n",
        "        self.emp_id=emp_id\n",
        "        self.emp_name=emp_name\n",
        "        self.emp_address=emp_address\n",
        "        self.allowance=allowance\n",
        "        self.rate=rate\n",
        "class Fulltime(employee):\n",
        "      pass\n",
        "class PartTime (employee):\n",
        "    def __init__(self,emp_id,emp_name,emp_address,rate):\n",
        "        self.rate = rate\n",
        "\n",
        "class Salary:\n",
        "    def __init__ (self, salary_id,salary, cut_of_date, days_of_work):\n",
        "        self.salary_id = salary_id\n",
        "        self.salary = salary\n",
        "        self.cut_of_date = cut_of_date\n",
        "        self.days_of_work = days_of_work"
      ]
    }
  ]
}