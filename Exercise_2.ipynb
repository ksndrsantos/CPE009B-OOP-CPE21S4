{
  "nbformat": 4,
  "nbformat_minor": 0,
  "metadata": {
    "colab": {
      "provenance": [],
      "authorship_tag": "ABX9TyNTO88tHkiGvU83bQHst7iA",
      "include_colab_link": true
    },
    "kernelspec": {
      "name": "python3",
      "display_name": "Python 3"
    },
    "language_info": {
      "name": "python"
    }
  },
  "cells": [
    {
      "cell_type": "markdown",
      "metadata": {
        "id": "view-in-github",
        "colab_type": "text"
      },
      "source": [
        "<a href=\"https://colab.research.google.com/github/ksndrsantos/CPE009B-OOP-CPE21S4/blob/main/Exercise_2.ipynb\" target=\"_parent\"><img src=\"https://colab.research.google.com/assets/colab-badge.svg\" alt=\"Open In Colab\"/></a>"
      ]
    },
    {
      "cell_type": "code",
      "execution_count": 1,
      "metadata": {
        "colab": {
          "base_uri": "https://localhost:8080/"
        },
        "id": "ywFIeFy8WIWF",
        "outputId": "3e6519a9-c1c6-4199-9632-515d1e6beb1f"
      },
      "outputs": [
        {
          "output_type": "execute_result",
          "data": {
            "text/plain": [
              "7"
            ]
          },
          "metadata": {},
          "execution_count": 1
        }
      ],
      "source": [
        "class foo:\n",
        "  def __init__(self,a,b):\n",
        "    self.a=a\n",
        "    self.b=b\n",
        "  def add(self):\n",
        "    return self.a+self.b\n",
        "foo_object = foo(3,4)\n",
        "foo_object.add()"
      ]
    },
    {
      "cell_type": "code",
      "source": [
        "class foo:\n",
        "  def __init__(self,a,b):\n",
        "    self._a=a\n",
        "    self.b=b\n",
        "  def add(self):\n",
        "    return self._a+self.b #double mangling used for hiding data or making the code stronger\n",
        "foo_object = foo(3,4)\n",
        "print (\"The value of a is:\", foo_object._a)\n",
        "print (\"The value of b is:\",foo_object.b)\n",
        "print (\"The sum is:\",foo_object.add())"
      ],
      "metadata": {
        "colab": {
          "base_uri": "https://localhost:8080/"
        },
        "id": "bX1E-omCYavH",
        "outputId": "7befb8ab-6773-48ad-9f78-97d3365fd1bf"
      },
      "execution_count": 10,
      "outputs": [
        {
          "output_type": "stream",
          "name": "stdout",
          "text": [
            "The value of a is: 3\n",
            "The value of b is: 4\n",
            "The sum is: 7\n"
          ]
        }
      ]
    },
    {
      "cell_type": "code",
      "source": [
        "class Counter:\n",
        "    def __init__(self):\n",
        "        self._current = 0\n",
        "\n",
        "    def increment(self):\n",
        "        self._current += 1\n",
        "\n",
        "    def value(self):\n",
        "        return self._current\n",
        "\n",
        "    def reset(self):\n",
        "        self._current = 0\n",
        "\n",
        "counter = Counter()\n",
        "print(\"Current Value: \", counter.value())\n",
        "counter.increment()\n",
        "print(\"Current Value after increment: \", counter.value())\n",
        "counter.reset()\n",
        "print(\"Current Value after reset: \", counter.value())\n"
      ],
      "metadata": {
        "colab": {
          "base_uri": "https://localhost:8080/"
        },
        "id": "ypVQUbj7b4NQ",
        "outputId": "5376c092-bc4b-40b5-adc0-b53758ab701c"
      },
      "execution_count": 19,
      "outputs": [
        {
          "output_type": "stream",
          "name": "stdout",
          "text": [
            "Current Value:  0\n",
            "Current Value after increment:  1\n",
            "Current Value after reset:  0\n"
          ]
        }
      ]
    }
  ]
}